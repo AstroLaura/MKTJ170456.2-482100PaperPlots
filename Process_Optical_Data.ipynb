{
 "cells": [
  {
   "cell_type": "code",
   "execution_count": 9,
   "metadata": {},
   "outputs": [],
   "source": [
    "import numpy as np\n",
    "import glob\n",
    "from astropy.time import Time\n",
    "import Optical_Processing_Functions as opf"
   ]
  },
  {
   "cell_type": "markdown",
   "metadata": {},
   "source": [
    "# Process the optical observations of TYC 8332-2529-1\n",
    "\n",
    "This Jupyter Notebook, and the python script <em>Process_Optical_Data.py</em>, processes the optical observations and write the data as the numpy files:\n",
    "<ul>\n",
    "    <li>TYC_optical_semesters.npy</li>\n",
    "    <li>TYC_optical_binned.npy</li>\n",
    "    <li>TYC_optical_binned_noOutliers.npy</li>\n",
    "</ul>\n",
    "\n",
    "The file <em>TYC_optical_semesters.npy</em> has the name, MJDs, magnitudes, and errors on the magnitudes of the ASAS, KELT, and ASAS-SN observations.\n",
    "\n",
    "The file <em>TYC_optical_binned.npy</em> has the same\n",
    "semesters, but binned such that there is only one MJD,\n",
    "magntitude, and error per day (for each day that the\n",
    "source is observed).\n",
    "\n",
    "The file <em>TYC_optical_binned_noOutliers.npy</em> is\n",
    "the same as <em>TYC_optical_binned.npy</em>, but the\n",
    "outlier magnitudes have been removed."
   ]
  },
  {
   "cell_type": "markdown",
   "metadata": {},
   "source": [
    "The first step is the load in the KELT observations, and convert the times of the observations from Heliocentric Julian Date (HJD) to Modified Julian Date (MJD). KELT has East and West observations due to the instrument, you can find out more here: https://keltsurvey.org/lightcurves."
   ]
  },
  {
   "cell_type": "code",
   "execution_count": 10,
   "metadata": {},
   "outputs": [],
   "source": [
    "### The KELT data\n",
    "\n",
    "east_tfa = np.genfromtxt('KELT_S36_lc_027057_V01_east_tfa.dat')\n",
    "west_tfa = np.genfromtxt('KELT_S36_lc_027056_V01_west_tfa.dat')\n",
    "\n",
    "east_tfa_time = east_tfa[:, 0]-2400000.5\n",
    "east_tfa_V = east_tfa[:, 1] - 2.07\n",
    "east_tfa_V_err = east_tfa[:, 2]\n",
    "\n",
    "west_tfa_time = west_tfa[:, 0]-2400000.5\n",
    "west_tfa_V = west_tfa[:, 1] - 2.07\n",
    "west_tfa_V_err = west_tfa[:, 2]"
   ]
  },
  {
   "cell_type": "markdown",
   "metadata": {},
   "source": [
    "Next, we load in the ASAS observations and process these. ASAS observations are graded A, B, C, or D. Where A observations are the highest quality, and D the lowest quality. Here we remove the C and D grade epochs, and also remove any remaining outliers (as these are due to instrumental issues)."
   ]
  },
  {
   "cell_type": "code",
   "execution_count": 11,
   "metadata": {},
   "outputs": [
    {
     "name": "stdout",
     "output_type": "stream",
     "text": [
      "Before processing:\n",
      "Length times:  575 \n",
      "\n",
      "After processing:\n",
      "Length times:  534\n",
      "Length data points:  534\n",
      "Length uncertainties:  534\n",
      "Faintest magnitude: 11.3386\n",
      "Brightest magnitude: 10.6704\n"
     ]
    }
   ],
   "source": [
    "### The ASAS data\n",
    "asasfilename = 'ASAS_data.tsv'\n",
    "\n",
    "(ASAS_times,\n",
    " ASAS_mags,\n",
    " ASAS_mag_errs) = opf.process_ASAS(asasfilename,\n",
    "                                   good_ratings=True,\n",
    "                                   cut_outliers=True)"
   ]
  },
  {
   "cell_type": "markdown",
   "metadata": {},
   "source": [
    "Finally, we load in the ASAS-SN observations. The ASAS-SN file has both g- and V-band observations in one file. So we split this data into the two separate bands."
   ]
  },
  {
   "cell_type": "code",
   "execution_count": 12,
   "metadata": {},
   "outputs": [],
   "source": [
    "### The ASAS-SN data\n",
    "asassnfilename = 'ASASSN.csv'\n",
    "(asassn_mjd_V,\n",
    " asassn_mag_V,\n",
    " asassn_mag_V_err,\n",
    " asassn_mjd_g,\n",
    " asassn_mag_g,\n",
    " asassn_mag_g_err) = opf.process_ASASSN(asassnfilename)"
   ]
  },
  {
   "cell_type": "markdown",
   "metadata": {},
   "source": [
    "For the next step, put all the of the KELT, ASAS, and ASAS-SN data together."
   ]
  },
  {
   "cell_type": "code",
   "execution_count": 13,
   "metadata": {},
   "outputs": [],
   "source": [
    "### Turn all of the optical data into giant arrays\n",
    "optical_names = ['ASAS', 'KELTs East', 'KELTs West',\n",
    "                 'ASAS-SN V', 'ASAS-SN g']\n",
    "optical_mjds = [ASAS_times, east_tfa_time, west_tfa_time,\n",
    "                asassn_mjd_V, asassn_mjd_g]\n",
    "optical_mags = [ASAS_mags, east_tfa_V, west_tfa_V,\n",
    "                asassn_mag_V, asassn_mag_g]\n",
    "optical_mag_errs = [ASAS_mag_errs, east_tfa_V_err, west_tfa_V_err,\n",
    "                    asassn_mag_V_err, asassn_mag_g_err]"
   ]
  },
  {
   "cell_type": "markdown",
   "metadata": {},
   "source": [
    "Now, we split the observations into semesters. A semester is the part of the year where the source is a night-time source (and as such, is visible to optical telescopes). Save these semesters in a numpy file so that they can be used for the Lomb-Scargle analysis and for plotting."
   ]
  },
  {
   "cell_type": "code",
   "execution_count": 14,
   "metadata": {},
   "outputs": [],
   "source": [
    "(optical_mjd_chunks,\n",
    " optical_mag_chunks,\n",
    " optical_mag_e_chunks,\n",
    " optical_name_chunks) = opf.split_semesters(optical_names, optical_mjds,\n",
    "                                            optical_mags, optical_mag_errs,\n",
    "                                            sufficient_points=20)\n",
    "# Save these as a numpy file\n",
    "np.save('TYC_optical_semesters', np.array([optical_mjd_chunks,\n",
    "                                            optical_mag_chunks,\n",
    "                                            optical_mag_e_chunks,\n",
    "                                            optical_name_chunks]))"
   ]
  },
  {
   "cell_type": "markdown",
   "metadata": {},
   "source": [
    "In plots the data looks messy, so bin the data. I bin it so that for each day the source isobserved, there's only one, average magnitude (and error).\n",
    "\n",
    "I also make a version of this binned data where the extreme outliers are removed.\n",
    "\n",
    "Save both of these binned data sets as numpy arrays for use in plotting."
   ]
  },
  {
   "cell_type": "code",
   "execution_count": 15,
   "metadata": {},
   "outputs": [],
   "source": [
    "(binned_times,\n",
    " binned_mags,\n",
    " binned_errs,\n",
    " no_times,\n",
    " no_mags,\n",
    " no_errs) = opf.bin_per_day(optical_mjd_chunks,\n",
    "                            optical_mag_chunks,\n",
    "                            optical_mag_e_chunks,\n",
    "                            optical_name_chunks)\n",
    "# Save these as numpy files\n",
    "np.save('TYC_optical_binned', np.array([binned_times,\n",
    "                                        binned_mags,\n",
    "                                        binned_errs]))\n",
    "np.save('TYC_optical_binned_noOutliers', np.array([no_times,\n",
    "                                                   no_mags,\n",
    "                                                   no_errs]))"
   ]
  },
  {
   "cell_type": "markdown",
   "metadata": {},
   "source": [
    "So that you have an idea of the data, print out some basic information."
   ]
  },
  {
   "cell_type": "code",
   "execution_count": 16,
   "metadata": {
    "scrolled": true
   },
   "outputs": [
    {
     "name": "stdout",
     "output_type": "stream",
     "text": [
      "ASAS Start MJD: 51933.38 End MJD: 55116.02\n",
      "Number of data points: 534\n",
      "Start ISOT:  2001-01-24T09:00:21.600\n",
      "End ISOT 2009-10-12T00:27:05.184\n",
      "Total number of days: 3182\n",
      "\n",
      "KELTs East Start MJD: 56427.89 End MJD: 57254.75\n",
      "Number of data points: 1425\n",
      "Start ISOT:  2013-05-15T21:21:49.738\n",
      "End ISOT 2015-08-20T18:03:10.166\n",
      "Total number of days: 826\n",
      "\n",
      "KELTs West Start MJD: 56428.03 End MJD: 57308.77\n",
      "Number of data points: 1612\n",
      "Start ISOT:  2013-05-16T00:42:12.384\n",
      "End ISOT 2015-10-13T18:34:12.691\n",
      "Total number of days: 880\n",
      "\n",
      "ASAS-SN V Start MJD: 57457.35 End MJD: 58383.03\n",
      "Number of data points: 759\n",
      "Start ISOT:  2016-03-10T08:27:09.216\n",
      "End ISOT 2018-09-22T00:37:04.800\n",
      "Total number of days: 925\n",
      "\n",
      "ASAS-SN g Start MJD: 58175.39 End MJD: 58700.22\n",
      "Number of data points: 645\n",
      "Start ISOT:  2018-02-26T09:21:11.808\n",
      "End ISOT 2019-08-05T05:22:14.592\n",
      "Total number of days: 524\n",
      "\n",
      "Total number of days of observations: 6340\n",
      "Total number of data points: 4975\n",
      "Total span of observations: 18.53 years\n"
     ]
    }
   ],
   "source": [
    "### Print out the basic info for each data set\n",
    "\n",
    "total_days = 0\n",
    "num_points = 0\n",
    "for i, name in enumerate(optical_names):\n",
    "    print('{0} Start MJD: {1:.2f} End MJD: {2:.2f}'.format(name,\n",
    "                                                           np.min(optical_mjds[i]),\n",
    "                                                           np.max(optical_mjds[i])))\n",
    "    print('Number of data points: {}'.format(len(optical_mjds[i])))\n",
    "    print('Start ISOT: ', Time(np.min(optical_mjds[i]), format='mjd').isot)\n",
    "    print('End ISOT', Time(np.max(optical_mjds[i]), format='mjd').isot)\n",
    "    days = (Time(np.max(optical_mjds[i]),\n",
    "                 format='mjd')-\n",
    "            Time(np.min(optical_mjds[i]),\n",
    "                 format='mjd'))\n",
    "    print('Total number of days: {0}'.format(int((days.sec)/60./60./24.)))\n",
    "    print()\n",
    "\n",
    "    num_points += len(optical_mjds[i])\n",
    "    total_days += (days.sec)/60./60./24.\n",
    "\n",
    "print('Total number of days of observations: {}'.format(int(total_days)))\n",
    "print('Total number of data points: {}'.format(num_points))\n",
    "print('Total span of observations: {:.2f} years'.format((Time(np.max(optical_mjds[-1]),\n",
    "                                                          format='mjd')-\n",
    "                                                     Time(np.min(optical_mjds[0]),\n",
    "                                                          format='mjd')).sec/60./60./24./365.25))"
   ]
  },
  {
   "cell_type": "code",
   "execution_count": null,
   "metadata": {},
   "outputs": [],
   "source": []
  }
 ],
 "metadata": {
  "kernelspec": {
   "display_name": "Python 3",
   "language": "python",
   "name": "python3"
  },
  "language_info": {
   "codemirror_mode": {
    "name": "ipython",
    "version": 3
   },
   "file_extension": ".py",
   "mimetype": "text/x-python",
   "name": "python",
   "nbconvert_exporter": "python",
   "pygments_lexer": "ipython3",
   "version": "3.6.8"
  }
 },
 "nbformat": 4,
 "nbformat_minor": 2
}
