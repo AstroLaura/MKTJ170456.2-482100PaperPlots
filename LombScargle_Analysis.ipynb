{
 "cells": [
  {
   "cell_type": "code",
   "execution_count": 5,
   "metadata": {},
   "outputs": [],
   "source": [
    "import numpy as np\n",
    "from astropy.stats import LombScargle\n",
    "from scipy.interpolate import UnivariateSpline\n",
    "import Optical_LombScargle_Functions as lsf"
   ]
  },
  {
   "cell_type": "markdown",
   "metadata": {},
   "source": [
    "# Perform a Lomb-Scargle analysis of optical observations of TYC 8332-2529-1\n",
    "\n",
    "This Jupyter Notebook, or the python script <em>LombScargle_Analysis.py</em>\n",
    "performs Lomb-Scargle (LS) analyses of each semester of optical observations\n",
    "of the source TYC 8332-2529-1.\n",
    "It writes two numpy files:\n",
    "<ul>\n",
    "    <li>TYC_LS_periods.npy</li>\n",
    "    <li>TYC_LS_periodErrors.npy</li>\n",
    "</ul>\n",
    "\n",
    "The file <em>TYC_LS_periods.npy</em> has a numpy array of\n",
    "the periods (in days) from each semester in it.\n",
    "The file <em>TYC_LS_periodErrors.npy</em> has a numpy array\n",
    "of the errors on the periods (in days) from each semester in it."
   ]
  },
  {
   "cell_type": "markdown",
   "metadata": {},
   "source": [
    "First load in the optical data that was produced using <em>Process_Optical_Data.ipynb</em> (or <em>Process_Optical_Data.py</em>)."
   ]
  },
  {
   "cell_type": "code",
   "execution_count": 6,
   "metadata": {},
   "outputs": [],
   "source": [
    "## Get the optical data\n",
    "all_optical_info = np.load('TYC_optical_semesters.npy')\n",
    "\n",
    "optical_mjd_chunks = all_optical_info[0]\n",
    "optical_mag_chunks = all_optical_info[1]\n",
    "optical_mag_e_chunks = all_optical_info[2]\n",
    "optical_name_chunks = all_optical_info[3]\n",
    "mean_all_V = np.mean(optical_mag_chunks[-1])"
   ]
  },
  {
   "cell_type": "markdown",
   "metadata": {},
   "source": [
    "Now perform the Lomb-Scargle analysis on each semester (and all of the V-band observations)."
   ]
  },
  {
   "cell_type": "code",
   "execution_count": 7,
   "metadata": {},
   "outputs": [
    {
     "name": "stderr",
     "output_type": "stream",
     "text": [
      "/home/driessen/.conda/envs/LaurasJupyter36/lib/python3.6/site-packages/astropy/stats/lombscargle/implementations/fast_impl.py:93: RuntimeWarning: invalid value encountered in true_divide\n",
      "  tan_2omega_tau = (S2 - 2 * S * C) / (C2 - (C * C - S * S))\n",
      "/home/driessen/.conda/envs/LaurasJupyter36/lib/python3.6/site-packages/astropy/stats/lombscargle/implementations/fast_impl.py:122: RuntimeWarning: divide by zero encountered in true_divide\n",
      "  power = (YC * YC / CC + YS * YS / SS)\n",
      "/home/driessen/.conda/envs/LaurasJupyter36/lib/python3.6/site-packages/astropy/stats/lombscargle/implementations/fast_impl.py:122: RuntimeWarning: invalid value encountered in true_divide\n",
      "  power = (YC * YC / CC + YS * YS / SS)\n",
      "/home/driessen/.conda/envs/LaurasJupyter36/lib/python3.6/site-packages/astropy/stats/lombscargle/implementations/fast_impl.py:93: RuntimeWarning: divide by zero encountered in true_divide\n",
      "  tan_2omega_tau = (S2 - 2 * S * C) / (C2 - (C * C - S * S))\n"
     ]
    }
   ],
   "source": [
    "# Perform the Lomb-Scargle analysis\n",
    "(ls_freqs, ls_pows) = lsf.run_LS(optical_mjd_chunks,\n",
    "                                 optical_mag_chunks,\n",
    "                                 optical_mag_e_chunks,\n",
    "                                 optical_name_chunks)"
   ]
  },
  {
   "cell_type": "markdown",
   "metadata": {},
   "source": [
    "Next find the peak of the power spectrum to get the period and the uncertainties (in units of days), and save these values in numpy files."
   ]
  },
  {
   "cell_type": "code",
   "execution_count": 8,
   "metadata": {
    "scrolled": true
   },
   "outputs": [
    {
     "name": "stdout",
     "output_type": "stream",
     "text": [
      "ASAS \tperiod: 21.621456 ± 1.134258 days \n",
      "\n",
      "ASAS \tperiod: 21.985017 ± 2.206041 days \n",
      "\n",
      "ASAS \tperiod: 21.795934 ± 0.973529 days \n",
      "\n",
      "ASAS \tperiod: 22.160855 ± 1.893440 days \n",
      "\n",
      "ASAS \tperiod: 21.597611 ± 1.414403 days \n",
      "\n",
      "ASAS \tperiod: 21.465963 ± 1.818308 days \n",
      "\n",
      "ASAS \tperiod: 21.217577 ± 0.834938 days \n",
      "\n",
      "ASAS \tperiod: 21.609474 ± 1.251511 days \n",
      "\n",
      "ASAS \tperiod: 21.595002 ± 1.526720 days \n",
      "\n",
      "KELT \tperiod: 10.486486 ± 0.459839 days \n",
      "\n",
      "KELT \tperiod: 20.866319 ± 1.074805 days \n",
      "\n",
      "KELT \tperiod: 21.360017 ± 1.261131 days \n",
      "\n",
      "ASAS-SN V \tperiod: nan ± nan days \n",
      "\n",
      "ASAS-SN V \tperiod: 21.408923 ± 2.158095 days \n",
      "\n",
      "ASAS-SN V \tperiod: 20.377904 ± 0.782815 days \n",
      "\n",
      "ASAS-SN V \tperiod: 21.352510 ± 2.162648 days \n",
      "\n",
      "ASAS-SN V \tperiod: 18.813325 ± 2.396940 days \n",
      "\n",
      "ASAS-SN g \tperiod: nan ± nan days \n",
      "\n",
      "ASAS-SN g \tperiod: 21.114461 ± 1.521936 days \n",
      "\n",
      "ASAS-SN g \tperiod: 21.947603 ± 1.442230 days \n",
      "\n",
      "All V data \tperiod: 21.254663 ± 0.043690 days \n",
      "\n"
     ]
    },
    {
     "name": "stderr",
     "output_type": "stream",
     "text": [
      "/raid/driessen/FlareStars/GX339/PlottingForGIT/Optical_LombScargle_Functions.py:90: RuntimeWarning: divide by zero encountered in true_divide\n",
      "  freqs_for_max = freqs[np.where((1/freqs)<100)[0][0]:\n",
      "/raid/driessen/FlareStars/GX339/PlottingForGIT/Optical_LombScargle_Functions.py:91: RuntimeWarning: divide by zero encountered in true_divide\n",
      "  np.where((1/freqs)>5)[0][-1]]\n",
      "/raid/driessen/FlareStars/GX339/PlottingForGIT/Optical_LombScargle_Functions.py:92: RuntimeWarning: divide by zero encountered in true_divide\n",
      "  pows_for_max = ls_pows[i][np.where((1/freqs)<100)[0][0]:\n",
      "/raid/driessen/FlareStars/GX339/PlottingForGIT/Optical_LombScargle_Functions.py:93: RuntimeWarning: divide by zero encountered in true_divide\n",
      "  np.where((1/freqs)>5)[0][-1]]\n"
     ]
    }
   ],
   "source": [
    "# The approximate positions of the base\n",
    "# of the LS peaks for finding the centre\n",
    "# of the peak and the FWHM\n",
    "widths_right = [7, 5, 5, 6, 6, 6, 5, 7, 8,\n",
    "                7, 6, 4, 5, 6, 6, 6, 5, 5,\n",
    "                5, 4, 5, 10]\n",
    "widths_left  = [7, 4, 5, 5, 6, 5, 5, 5, 5,\n",
    "                7, 4, 4, 5, 6, 6, 6, 4, 5,\n",
    "                5, 4, 5, 10]\n",
    "\n",
    "periods, period_errors = lsf.get_periods(ls_freqs, ls_pows,\n",
    "                                         widths_right, widths_left,\n",
    "                                         optical_name_chunks)\n",
    "\n",
    "# Save the periods and the uncertainties\n",
    "# on the periods\n",
    "np.save('TYC_LS_periods', np.array(periods))\n",
    "np.save('TYC_LS_periodErrors', np.array(period_errors))"
   ]
  },
  {
   "cell_type": "code",
   "execution_count": null,
   "metadata": {},
   "outputs": [],
   "source": []
  }
 ],
 "metadata": {
  "kernelspec": {
   "display_name": "Python 3",
   "language": "python",
   "name": "python3"
  },
  "language_info": {
   "codemirror_mode": {
    "name": "ipython",
    "version": 3
   },
   "file_extension": ".py",
   "mimetype": "text/x-python",
   "name": "python",
   "nbconvert_exporter": "python",
   "pygments_lexer": "ipython3",
   "version": "3.6.8"
  }
 },
 "nbformat": 4,
 "nbformat_minor": 2
}
